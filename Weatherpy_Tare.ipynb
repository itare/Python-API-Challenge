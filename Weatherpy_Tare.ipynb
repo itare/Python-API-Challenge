{
 "cells": [
  {
   "cell_type": "markdown",
   "metadata": {},
   "source": [
    "# WeatherPy\n",
    "----\n",
    "\n",
    "#### Note\n",
    "* Instructions have been included for each segment. You do not have to follow them exactly, but they are included to help you think through the steps."
   ]
  },
  {
   "cell_type": "code",
   "execution_count": 1,
   "metadata": {
    "scrolled": true
   },
   "outputs": [],
   "source": [
    "# Dependencies and Setup\n",
    "import matplotlib.pyplot as plt\n",
    "import pandas as pd\n",
    "import numpy as np\n",
    "import requests\n",
    "import time\n",
    "from scipy.stats import linregress\n",
    "import json \n",
    "\n",
    "\n",
    "# Import API key\n",
    "from api_keys import weather_api_key\n",
    "\n",
    "# Incorporated citipy to determine city based on latitude and longitude\n",
    "from citipy import citipy\n",
    "\n",
    "# Output File (CSV)\n",
    "output_data_file = \"output_data/cities.csv\"\n",
    "\n",
    "# Range of latitudes and longitudes\n",
    "lat_range = (-90, 90)\n",
    "lng_range = (-180, 180)"
   ]
  },
  {
   "cell_type": "code",
   "execution_count": null,
   "metadata": {},
   "outputs": [],
   "source": []
  },
  {
   "cell_type": "code",
   "execution_count": 2,
   "metadata": {},
   "outputs": [],
   "source": [
    "api_key = \"3459a2dcf595745b70d13f9448a55e38\""
   ]
  },
  {
   "cell_type": "markdown",
   "metadata": {},
   "source": [
    "## Generate Cities List"
   ]
  },
  {
   "cell_type": "code",
   "execution_count": 3,
   "metadata": {},
   "outputs": [
    {
     "data": {
      "text/plain": [
       "625"
      ]
     },
     "execution_count": 3,
     "metadata": {},
     "output_type": "execute_result"
    }
   ],
   "source": [
    "# List for holding lat_lngs and cities\n",
    "lat_lngs = []\n",
    "cities = []\n",
    "\n",
    "# Create a set of random lat and lng combinations\n",
    "lats = np.random.uniform(lat_range[0], lat_range[1], size=1500)\n",
    "lngs = np.random.uniform(lng_range[0], lng_range[1], size=1500)\n",
    "lat_lngs = zip(lats, lngs)\n",
    "\n",
    "# Identify nearest city for each lat, lng combination\n",
    "for lat_lng in lat_lngs:\n",
    "    city = citipy.nearest_city(lat_lng[0], lat_lng[1]).city_name\n",
    "    \n",
    "    # If the city is unique, then add it to a our cities list\n",
    "    if city not in cities:\n",
    "        cities.append(city)\n",
    "\n",
    "# Print the city count to confirm sufficient count\n",
    "len(cities)"
   ]
  },
  {
   "cell_type": "markdown",
   "metadata": {},
   "source": [
    "### Perform API Calls\n",
    "* Perform a weather check on each city using a series of successive API calls.\n",
    "* Include a print log of each city as it'sbeing processed (with the city number and city name).\n"
   ]
  },
  {
   "cell_type": "code",
   "execution_count": 4,
   "metadata": {
    "scrolled": true
   },
   "outputs": [
    {
     "name": "stdout",
     "output_type": "stream",
     "text": [
      "{\n",
      "    \"coord\": {\n",
      "        \"lon\": 26.891,\n",
      "        \"lat\": -33.5906\n",
      "    },\n",
      "    \"weather\": [\n",
      "        {\n",
      "            \"id\": 804,\n",
      "            \"main\": \"Clouds\",\n",
      "            \"description\": \"overcast clouds\",\n",
      "            \"icon\": \"04n\"\n",
      "        }\n",
      "    ],\n",
      "    \"base\": \"stations\",\n",
      "    \"main\": {\n",
      "        \"temp\": 68.27,\n",
      "        \"feels_like\": 61.25,\n",
      "        \"temp_min\": 68.27,\n",
      "        \"temp_max\": 68.27,\n",
      "        \"pressure\": 1016,\n",
      "        \"humidity\": 89,\n",
      "        \"sea_level\": 1016,\n",
      "        \"grnd_level\": 1014\n",
      "    },\n",
      "    \"visibility\": 10000,\n",
      "    \"wind\": {\n",
      "        \"speed\": 21.77,\n",
      "        \"deg\": 59,\n",
      "        \"gust\": 32.86\n",
      "    },\n",
      "    \"clouds\": {\n",
      "        \"all\": 92\n",
      "    },\n",
      "    \"dt\": 1617063586,\n",
      "    \"sys\": {\n",
      "        \"country\": \"ZA\",\n",
      "        \"sunrise\": 1617078175,\n",
      "        \"sunset\": 1617120635\n",
      "    },\n",
      "    \"timezone\": 7200,\n",
      "    \"id\": 964432,\n",
      "    \"name\": \"Port Alfred\",\n",
      "    \"cod\": 200\n",
      "}\n"
     ]
    }
   ],
   "source": [
    "url = \"http://api.openweathermap.org/data/2.5/weather?\"\n",
    "units = \"imperial\"\n",
    "query_url = f\"{url}appid={api_key}&units={units}&q=\"\n",
    "\n",
    "weather_response = requests.get(query_url + city)\n",
    "weather_json = weather_response.json()\n",
    "print(json.dumps(weather_json, indent=4))"
   ]
  },
  {
   "cell_type": "code",
   "execution_count": 5,
   "metadata": {},
   "outputs": [
    {
     "name": "stdout",
     "output_type": "stream",
     "text": [
      "<Response [200]>\n"
     ]
    }
   ],
   "source": [
    "print(requests.get(query_url + city))"
   ]
  },
  {
   "cell_type": "code",
   "execution_count": 6,
   "metadata": {},
   "outputs": [
    {
     "name": "stdout",
     "output_type": "stream",
     "text": [
      "Processing Record 1 | Hilo\n",
      "Processing Record 2 | Clyde River\n",
      "Processing Record 3 | Geraldton\n",
      "Processing Record 4 | Baní\n",
      "Processing Record 5 | Bambous Virieux\n",
      "City not found. Skipping...\n",
      "Processing Record 6 | Raudeberg\n",
      "Processing Record 7 | Bella Union\n",
      "Processing Record 8 | Busselton\n",
      "Processing Record 9 | Ampanihy\n",
      "Processing Record 10 | East London\n",
      "City not found. Skipping...\n",
      "Processing Record 11 | Kalevala\n",
      "Processing Record 12 | Chokurdakh\n",
      "Processing Record 13 | Airai\n",
      "Processing Record 14 | Inongo\n",
      "Processing Record 15 | Vestmannaeyjar\n",
      "Processing Record 16 | Port Alfred\n",
      "Processing Record 17 | Punta Arenas\n",
      "Processing Record 18 | Gubkinskiy\n",
      "Processing Record 19 | Alta Floresta\n",
      "Processing Record 20 | Sørland\n",
      "Processing Record 21 | Kavaratti\n",
      "City not found. Skipping...\n",
      "Processing Record 22 | Ushuaia\n",
      "Processing Record 23 | Omsukchan\n",
      "Processing Record 24 | Bengkulu\n",
      "Processing Record 25 | Upington\n",
      "Processing Record 26 | Karratha\n",
      "Processing Record 27 | Praia\n",
      "Processing Record 28 | Avarua\n",
      "Processing Record 29 | Barra do Bugres\n",
      "Processing Record 30 | Cherskiy\n",
      "Processing Record 31 | Nchelenge\n",
      "Processing Record 32 | Saint George\n",
      "Processing Record 33 | Sandwick\n",
      "Processing Record 34 | Monrovia\n",
      "Processing Record 35 | North Bend\n",
      "Processing Record 36 | Qaanaaq\n",
      "Processing Record 37 | Saskylakh\n",
      "Processing Record 38 | La Ronge\n",
      "Processing Record 39 | Jamestown\n",
      "Processing Record 40 | Severodvinsk\n",
      "Processing Record 41 | Olafsvik\n",
      "Processing Record 42 | Bluff\n",
      "Processing Record 43 | Prince Rupert\n",
      "Processing Record 44 | Tessalit\n",
      "Processing Record 45 | Coquimbo\n",
      "Processing Record 46 | Mar del Plata\n",
      "Processing Record 47 | Sola\n",
      "Processing Record 48 | Kenai\n",
      "Processing Record 49 | Saint-Philippe\n",
      "Processing Record 50 | Mataura\n",
      "Processing Record 51 | Araouane\n",
      "Processing Record 52 | Ponta do Sol\n",
      "Processing Record 53 | Fairbanks\n",
      "Processing Record 54 | Faanui\n",
      "Processing Record 55 | Rikitea\n",
      "Processing Record 56 | Castro\n",
      "Processing Record 57 | Butaritari\n",
      "Processing Record 58 | Dargaville\n",
      "Processing Record 59 | Kaitong\n",
      "Processing Record 60 | Oberá\n",
      "Processing Record 61 | Okmulgee\n",
      "City not found. Skipping...\n",
      "Processing Record 62 | George Town\n",
      "Processing Record 63 | Albany\n",
      "City not found. Skipping...\n",
      "Processing Record 64 | Norman Wells\n",
      "Processing Record 65 | Tiksi\n",
      "Processing Record 66 | Abhā\n",
      "Processing Record 67 | Kapaa\n",
      "Processing Record 68 | Almeirim\n",
      "Processing Record 69 | Salalah\n",
      "Processing Record 70 | Khatanga\n",
      "Processing Record 71 | Port Blair\n",
      "Processing Record 72 | Pisco\n",
      "Processing Record 73 | Nabire\n",
      "Processing Record 74 | Tuatapere\n",
      "Processing Record 75 | Barrow\n",
      "Processing Record 76 | Fortuna\n",
      "Processing Record 77 | Codrington\n",
      "Processing Record 78 | Vardø\n",
      "Processing Record 79 | Marawi\n",
      "Processing Record 80 | Boyolangu\n",
      "Processing Record 81 | Port Elizabeth\n",
      "Processing Record 82 | Ribeira Grande\n",
      "Processing Record 83 | Iquique\n",
      "Processing Record 84 | Upernavik\n",
      "City not found. Skipping...\n",
      "Processing Record 85 | San Carlos del Zulia\n",
      "Processing Record 86 | Ulladulla\n",
      "Processing Record 87 | Hasaki\n",
      "Processing Record 88 | Xam Nua\n",
      "City not found. Skipping...\n",
      "Processing Record 89 | Kaeo\n",
      "Processing Record 90 | Dunedin\n",
      "Processing Record 91 | Cape Town\n",
      "Processing Record 92 | Preston\n",
      "Processing Record 93 | Hobart\n",
      "Processing Record 94 | Esperance\n",
      "City not found. Skipping...\n",
      "Processing Record 95 | Elizabeth City\n",
      "Processing Record 96 | Klenovyy\n",
      "Processing Record 97 | Pevek\n",
      "Processing Record 98 | Bredasdorp\n",
      "Processing Record 99 | Märsta\n",
      "Processing Record 100 | Mount Gambier\n",
      "Processing Record 101 | Cabo San Lucas\n",
      "Processing Record 102 | Hambantota\n",
      "Processing Record 103 | Stara Vyzhivka\n",
      "City not found. Skipping...\n",
      "Processing Record 104 | New Norfolk\n",
      "Processing Record 105 | Arraial do Cabo\n",
      "Processing Record 106 | Carnarvon\n",
      "Processing Record 107 | Manokwari\n",
      "City not found. Skipping...\n",
      "Processing Record 108 | Lynchburg\n",
      "Processing Record 109 | Hearst\n",
      "Processing Record 110 | Nurota\n",
      "Processing Record 111 | Hithadhoo\n",
      "Processing Record 112 | Morehead\n",
      "Processing Record 113 | Sirte\n",
      "Processing Record 114 | High Prairie\n",
      "Processing Record 115 | Flinders\n",
      "Processing Record 116 | Kaitangata\n",
      "Processing Record 117 | Hermanus\n",
      "Processing Record 118 | Matagami\n",
      "Processing Record 119 | Hermitage\n",
      "Processing Record 120 | Huangzhai\n",
      "City not found. Skipping...\n",
      "City not found. Skipping...\n",
      "Processing Record 121 | Port Lincoln\n",
      "Processing Record 122 | Bose\n",
      "Processing Record 123 | Kloulklubed\n",
      "Processing Record 124 | Puerto Ayora\n",
      "Processing Record 125 | Yellowknife\n",
      "Processing Record 126 | Thinadhoo\n",
      "Processing Record 127 | Ghanzi\n",
      "Processing Record 128 | Chifeng\n",
      "Processing Record 129 | Hargeisa\n",
      "Processing Record 130 | Chebenki\n",
      "Processing Record 131 | Paris\n",
      "City not found. Skipping...\n",
      "Processing Record 132 | Westport\n",
      "Processing Record 133 | Złotoryja\n",
      "City not found. Skipping...\n",
      "City not found. Skipping...\n",
      "Processing Record 134 | Constitución\n",
      "Processing Record 135 | Ürümqi\n",
      "Processing Record 136 | Kushiro\n",
      "Processing Record 137 | Leer\n",
      "Processing Record 138 | Whitehorse\n",
      "Processing Record 139 | Buala\n",
      "Processing Record 140 | Ayan\n",
      "Processing Record 141 | Thompson\n",
      "Processing Record 142 | Zemio\n",
      "City not found. Skipping...\n",
      "Processing Record 143 | Sarakhs\n",
      "Processing Record 144 | Severo-Kuril'sk\n",
      "Processing Record 145 | Puerto Baquerizo Moreno\n",
      "Processing Record 146 | Coronado\n",
      "Processing Record 147 | Souillac\n",
      "Processing Record 148 | Caucaia\n",
      "Processing Record 149 | Longyearbyen\n",
      "Processing Record 150 | Taltal\n",
      "Processing Record 151 | Mokhsogollokh\n",
      "Processing Record 152 | Portel\n",
      "Processing Record 153 | Banjar\n",
      "Processing Record 154 | Ayr\n",
      "Processing Record 155 | Baruun-Urt\n",
      "Processing Record 156 | Nyurba\n",
      "Processing Record 157 | Nikolskoye\n",
      "Processing Record 158 | Nome\n",
      "Processing Record 159 | Cayenne\n",
      "Processing Record 160 | Sovetskiy\n",
      "Processing Record 161 | Beringovskiy\n",
      "Processing Record 162 | Fort Nelson\n",
      "Processing Record 163 | Alekseyevka\n",
      "Processing Record 164 | Nola\n",
      "Processing Record 165 | Broome\n",
      "Processing Record 166 | Verkhnevilyuysk\n",
      "Processing Record 167 | Mackay\n",
      "Processing Record 168 | Arman'\n",
      "Processing Record 169 | Celestún\n",
      "City not found. Skipping...\n",
      "Processing Record 170 | Torbay\n",
      "City not found. Skipping...\n",
      "Processing Record 171 | Morros\n",
      "Processing Record 172 | Dikson\n",
      "Processing Record 173 | Sar-e Pul\n",
      "Processing Record 174 | Avera\n",
      "Processing Record 175 | Svetlaya\n",
      "Processing Record 176 | Tukuran\n",
      "Processing Record 177 | Baião\n",
      "Processing Record 178 | Biak\n",
      "Processing Record 179 | Daru\n",
      "Processing Record 180 | Uyemskiy\n",
      "City not found. Skipping...\n",
      "Processing Record 181 | Tasiilaq\n",
      "Processing Record 182 | Peleduy\n",
      "Processing Record 183 | Oyama\n",
      "Processing Record 184 | Ciudad de Armería\n",
      "Processing Record 185 | Santa Isabel Rio Negro\n",
      "Processing Record 186 | Petersburg\n",
      "Processing Record 187 | Kiryat Gat\n",
      "City not found. Skipping...\n",
      "Processing Record 188 | Lebu\n",
      "Processing Record 189 | Antalaha\n",
      "Processing Record 190 | Goundi\n",
      "Processing Record 191 | Mehamn\n",
      "Processing Record 192 | Road Town\n",
      "Processing Record 193 | Kalabo\n",
      "Processing Record 194 | São Filipe\n",
      "Processing Record 195 | Banyo\n",
      "Processing Record 196 | Berlevåg\n",
      "Processing Record 197 | Carutapera\n",
      "Processing Record 198 | San Policarpo\n",
      "Processing Record 199 | Tecpan\n",
      "Processing Record 200 | Noumea\n",
      "Processing Record 201 | Mahibadhoo\n",
      "Processing Record 202 | Nishifukuma\n",
      "Processing Record 203 | Santa Maria\n",
      "Processing Record 204 | Havre-St-Pierre\n",
      "Processing Record 205 | Ingham\n",
      "Processing Record 206 | Mahébourg\n",
      "Processing Record 207 | Cairns\n",
      "Processing Record 208 | Mahanje\n",
      "Processing Record 209 | Payo\n",
      "Processing Record 210 | Laela\n",
      "Processing Record 211 | Atuona\n",
      "Processing Record 212 | Camaná\n",
      "Processing Record 213 | Itaperuna\n",
      "Processing Record 214 | Saint Paul Harbor\n",
      "Processing Record 215 | Samur\n",
      "Processing Record 216 | La Santisima Trinidad\n",
      "City not found. Skipping...\n",
      "Processing Record 217 | Severnyy\n",
      "Processing Record 218 | Saint-Joseph\n",
      "Processing Record 219 | Alofi\n",
      "Processing Record 220 | Kathmandu\n",
      "Processing Record 221 | Peniche\n",
      "Processing Record 222 | Aklavik\n",
      "Processing Record 223 | Tuktoyaktuk\n",
      "Processing Record 224 | Egvekinot\n",
      "Processing Record 225 | Buin\n",
      "Processing Record 226 | Carauari\n",
      "Processing Record 227 | Vargem Alta\n",
      "Processing Record 228 | Oyem\n",
      "Processing Record 229 | Provideniya\n",
      "Processing Record 230 | Channagiri\n",
      "Processing Record 231 | Faya\n",
      "Processing Record 232 | Petropavlovsk-Kamchatskiy\n",
      "Processing Record 233 | Vaini\n",
      "Processing Record 234 | Oudtshoorn\n",
      "Processing Record 235 | Saint Anthony\n",
      "Processing Record 236 | Kiama\n",
      "Processing Record 237 | Tabuk\n",
      "Processing Record 238 | Robertsport\n",
      "Processing Record 239 | Lorengau\n",
      "Processing Record 240 | Kharakvasla\n",
      "Processing Record 241 | Half Moon Bay\n",
      "Processing Record 242 | Salta\n",
      "Processing Record 243 | Nur-Sultan\n",
      "Processing Record 244 | Muros\n",
      "Processing Record 245 | Saldanha\n",
      "Processing Record 246 | Vao\n",
      "Processing Record 247 | Tautira\n",
      "Processing Record 248 | Belyy Yar\n",
      "Processing Record 249 | Bathsheba\n",
      "Processing Record 250 | Zhalantun\n",
      "Processing Record 251 | Batagay\n",
      "Processing Record 252 | Palmer\n",
      "City not found. Skipping...\n",
      "Processing Record 253 | Borogontsy\n",
      "Processing Record 254 | Boende\n",
      "Processing Record 255 | Vrangel'\n",
      "Processing Record 256 | La Rioja\n",
      "Processing Record 257 | Tocopilla\n",
      "City not found. Skipping...\n",
      "Processing Record 258 | Turhal\n",
      "City not found. Skipping...\n",
      "Processing Record 259 | Songea\n",
      "Processing Record 260 | Praia da Vitória\n",
      "Processing Record 261 | Maniitsoq\n",
      "Processing Record 262 | Talnakh\n",
      "Processing Record 263 | Maningrida\n",
      "City not found. Skipping...\n",
      "Processing Record 264 | Isangel\n",
      "Processing Record 265 | Lüderitz\n",
      "Processing Record 266 | Yumen\n",
      "Processing Record 267 | Springfield\n",
      "Processing Record 268 | Onufriyivka\n",
      "Processing Record 269 | Henties Bay\n",
      "Processing Record 270 | Mogadishu\n",
      "Processing Record 271 | Acaraú\n",
      "Processing Record 272 | Mayo\n",
      "Processing Record 273 | Kununurra\n",
      "Processing Record 274 | Salym\n",
      "Processing Record 275 | Emba\n",
      "Processing Record 276 | Meulaboh\n",
      "Processing Record 277 | Pedernales\n",
      "Processing Record 278 | Tuy Hoa\n",
      "City not found. Skipping...\n",
      "Processing Record 279 | Yaan\n",
      "Processing Record 280 | Kiruna\n",
      "Processing Record 281 | Rezh\n",
      "Processing Record 282 | Natal\n",
      "Processing Record 283 | Abaeté\n",
      "Processing Record 284 | Yulara\n",
      "Processing Record 285 | Santa Rita\n",
      "Processing Record 286 | Phirangipuram\n",
      "City not found. Skipping...\n",
      "Processing Record 287 | Skibbereen\n",
      "Processing Record 288 | Pringsewu\n",
      "Processing Record 289 | Huarmey\n",
      "Processing Record 290 | Hofn\n",
      "Processing Record 291 | Yar-Sale\n",
      "Processing Record 292 | Lavrentiya\n",
      "Processing Record 293 | Christchurch\n",
      "Processing Record 294 | Ust'-Kut\n",
      "Processing Record 295 | Belen\n",
      "Processing Record 296 | Huilong\n",
      "Processing Record 297 | Kindu\n",
      "Processing Record 298 | Lázaro Cárdenas\n",
      "Processing Record 299 | Eskilstuna\n",
      "Processing Record 300 | San Quintín\n",
      "City not found. Skipping...\n",
      "City not found. Skipping...\n",
      "Processing Record 301 | Lusambo\n",
      "Processing Record 302 | Myitkyina\n",
      "Processing Record 303 | Leningradskiy\n",
      "Processing Record 304 | Kavieng\n",
      "Processing Record 305 | Kupang\n",
      "Processing Record 306 | Crixás\n",
      "Processing Record 307 | Hingatungan\n",
      "Processing Record 308 | Hailun\n",
      "Processing Record 309 | Bethel\n",
      "Processing Record 310 | Guangming\n",
      "Processing Record 311 | Progreso\n",
      "Processing Record 312 | Ancud\n",
      "Processing Record 313 | Suicheng\n",
      "City not found. Skipping...\n",
      "Processing Record 314 | Río Gallegos\n",
      "Processing Record 315 | Pozo Colorado\n",
      "Processing Record 316 | Buchanan\n",
      "Processing Record 317 | Brenes\n",
      "Processing Record 318 | Adrar\n",
      "Processing Record 319 | Banamba\n",
      "Processing Record 320 | Baganga\n",
      "City not found. Skipping...\n",
      "Processing Record 321 | Narsaq\n",
      "Processing Record 322 | Gambo\n",
      "City not found. Skipping...\n",
      "Processing Record 323 | Magdiwang\n",
      "Processing Record 324 | Baturaja\n",
      "City not found. Skipping...\n",
      "Processing Record 325 | Hays\n",
      "Processing Record 326 | Taoudenni\n",
      "Processing Record 327 | Garden City\n",
      "City not found. Skipping...\n",
      "Processing Record 328 | Grivenskaya\n",
      "Processing Record 329 | Bergen\n",
      "Processing Record 330 | Bilma\n",
      "Processing Record 331 | Tommot\n",
      "Processing Record 332 | Council Bluffs\n",
      "Processing Record 333 | Naīgarhi\n",
      "Processing Record 334 | Bindura\n",
      "City not found. Skipping...\n",
      "Processing Record 335 | Patitiri\n",
      "Processing Record 336 | Quatre Cocos\n",
      "Processing Record 337 | Eirunepé\n",
      "Processing Record 338 | Nālūt\n",
      "Processing Record 339 | San Cristobal\n",
      "Processing Record 340 | Nizhnevartovsk\n",
      "Processing Record 341 | Beloha\n",
      "Processing Record 342 | Būlaevo\n",
      "Processing Record 343 | Ostrovnoy\n",
      "Processing Record 344 | Den Helder\n",
      "Processing Record 345 | Visnes\n",
      "Processing Record 346 | Sungai Raya\n",
      "Processing Record 347 | Grafing\n",
      "Processing Record 348 | San Patricio\n",
      "Processing Record 349 | Goldsboro\n",
      "Processing Record 350 | Acapulco de Juárez\n",
      "Processing Record 351 | Karakol\n",
      "Processing Record 352 | Altay\n",
      "Processing Record 353 | Tigil'\n",
      "Processing Record 354 | Teahupoo\n",
      "Processing Record 355 | Ambovombe\n",
      "Processing Record 356 | Mwinilunga\n",
      "Processing Record 357 | Poum\n",
      "Processing Record 358 | Teya\n",
      "City not found. Skipping...\n",
      "Processing Record 359 | Panama City\n",
      "Processing Record 360 | Hals\n",
      "Processing Record 361 | Beni\n",
      "Processing Record 362 | Kalmunai\n",
      "Processing Record 363 | Strezhevoy\n",
      "Processing Record 364 | Padang\n",
      "City not found. Skipping...\n",
      "Processing Record 365 | Iracoubo\n",
      "Processing Record 366 | Odoyev\n",
      "Processing Record 367 | Laas\n",
      "Processing Record 368 | Teyateyaneng\n",
      "Processing Record 369 | Ayagoz\n",
      "Processing Record 370 | Tigzirt\n",
      "Processing Record 371 | Mocajuba\n",
      "Processing Record 372 | Kalemie\n",
      "City not found. Skipping...\n",
      "Processing Record 373 | Fareydūnshahr\n",
      "Processing Record 374 | Saint-François\n",
      "Processing Record 375 | Bukachacha\n",
      "Processing Record 376 | Haines Junction\n",
      "Processing Record 377 | Frederico Westphalen\n",
      "Processing Record 378 | Atar\n",
      "Processing Record 379 | Qaqortoq\n",
      "Processing Record 380 | Caravelas\n",
      "Processing Record 381 | Makkah al Mukarramah\n",
      "City not found. Skipping...\n",
      "Processing Record 382 | Mandera\n",
      "Processing Record 383 | Athabasca\n",
      "Processing Record 384 | Kushima\n",
      "Processing Record 385 | Gwalior\n",
      "Processing Record 386 | Vila Velha\n",
      "Processing Record 387 | Xapuri\n",
      "Processing Record 388 | Naze\n",
      "Processing Record 389 | San Lazaro\n",
      "Processing Record 390 | Oktyabr'skiy\n",
      "Processing Record 391 | Cody\n",
      "Processing Record 392 | Ixtapa\n",
      "Processing Record 393 | Laguna\n",
      "Processing Record 394 | Nanortalik\n",
      "Processing Record 395 | The Pas\n",
      "Processing Record 396 | Camacha\n",
      "Processing Record 397 | Qasigiannguit\n",
      "Processing Record 398 | Havøysund\n",
      "Processing Record 399 | Kahului\n",
      "Processing Record 400 | Yeppoon\n",
      "Processing Record 401 | Kanniyākumāri\n",
      "Processing Record 402 | Winnemucca\n",
      "Processing Record 403 | Brasiléia\n",
      "Processing Record 404 | Belz\n",
      "Processing Record 405 | Baghdad\n",
      "Processing Record 406 | Trofors\n",
      "Processing Record 407 | Julfa\n",
      "Processing Record 408 | Barpeta\n",
      "Processing Record 409 | Cidreira\n",
      "Processing Record 410 | Itaituba\n",
      "Processing Record 411 | Emilio Carranza\n",
      "Processing Record 412 | Mossamedes\n",
      "Processing Record 413 | Namatanai\n",
      "Processing Record 414 | Iguape\n",
      "Processing Record 415 | Iqaluit\n",
      "Processing Record 416 | Dhidhdhoo\n",
      "Processing Record 417 | Dzilam González\n",
      "Processing Record 418 | Coahuayana Viejo\n",
      "Processing Record 419 | Niquelândia\n",
      "Processing Record 420 | Yabrūd\n",
      "Processing Record 421 | Banes\n",
      "Processing Record 422 | Aykhal\n",
      "Processing Record 423 | Valverde del Camino\n",
      "City not found. Skipping...\n",
      "Processing Record 424 | Saint-Augustin\n",
      "Processing Record 425 | Zhangjiakou\n",
      "Processing Record 426 | Vostok\n",
      "Processing Record 427 | Lhokseumawe\n",
      "Processing Record 428 | Tianguá\n",
      "Processing Record 429 | Deputatsky\n",
      "Processing Record 430 | Marabu\n",
      "Processing Record 431 | Guerrero Negro\n",
      "Processing Record 432 | Dzhebariki-Khaya\n",
      "Processing Record 433 | College\n",
      "Processing Record 434 | Puerto Gaitán\n",
      "Processing Record 435 | Altamira\n",
      "Processing Record 436 | Kagal'nitskaya\n",
      "Processing Record 437 | Mitsamiouli\n",
      "Processing Record 438 | Slave Lake\n",
      "Processing Record 439 | Matiri\n",
      "Processing Record 440 | Parkes\n",
      "Processing Record 441 | Charters Towers\n",
      "Processing Record 442 | Jasper\n",
      "City not found. Skipping...\n",
      "Processing Record 443 | Kasongo\n",
      "Processing Record 444 | Province of Mantua\n",
      "Processing Record 445 | Batagay-Alyta\n",
      "Processing Record 446 | Oktyabr'skoye\n",
      "Processing Record 447 | Cockburn Town\n",
      "Processing Record 448 | Gouré\n",
      "Processing Record 449 | Takoradze\n",
      "Processing Record 450 | Melipilla\n",
      "Processing Record 451 | Brae\n",
      "Processing Record 452 | Laguna de Duero\n",
      "Processing Record 453 | Fier\n",
      "Processing Record 454 | Banda Aceh\n",
      "Processing Record 455 | Grand Gaube\n",
      "Processing Record 456 | Kalakamati\n",
      "Processing Record 457 | Erenhot\n",
      "Processing Record 458 | Tripoli\n",
      "Processing Record 459 | Imeni Poliny Osipenko\n",
      "Processing Record 460 | Våler\n",
      "Processing Record 461 | Punto Fijo\n",
      "Processing Record 462 | Sitka\n",
      "Processing Record 463 | Srednekolymsk\n",
      "Processing Record 464 | Idrinskoye\n",
      "Processing Record 465 | Donji Milanovac\n",
      "Processing Record 466 | Yangi Marg`ilon\n",
      "Processing Record 467 | Kutum\n",
      "Processing Record 468 | Chapais\n",
      "Processing Record 469 | Tomatlán\n",
      "Processing Record 470 | Koutsouras\n",
      "Processing Record 471 | Räpina\n",
      "Processing Record 472 | Beidao\n",
      "Processing Record 473 | Iskateley\n",
      "Processing Record 474 | Zhaotong\n",
      "Processing Record 475 | Lake Cowichan\n",
      "Processing Record 476 | Baisha\n",
      "Processing Record 477 | Tartous\n",
      "City not found. Skipping...\n",
      "Processing Record 478 | Husavik\n",
      "Processing Record 479 | Hamilton\n",
      "Processing Record 480 | Lahaina\n",
      "Processing Record 481 | Bani Walid\n",
      "Processing Record 482 | Bubaque\n",
      "Processing Record 483 | Kendari\n",
      "Processing Record 484 | Berbera\n",
      "City not found. Skipping...\n",
      "Processing Record 485 | Bonavista\n",
      "Processing Record 486 | Goderich\n",
      "Processing Record 487 | Ventanas\n",
      "Processing Record 488 | Osterburg\n",
      "Processing Record 489 | Ilulissat\n",
      "City not found. Skipping...\n",
      "Processing Record 490 | Sechura\n",
      "Processing Record 491 | ‘Ewa Beach\n",
      "Processing Record 492 | Cape Canaveral\n",
      "Processing Record 493 | Jinji\n",
      "Processing Record 494 | Mnogovershinnyy\n",
      "Processing Record 495 | Tarakan\n",
      "Processing Record 496 | Muhafazat Lahij\n",
      "Processing Record 497 | Ambon City\n",
      "Processing Record 498 | Samoded\n",
      "Processing Record 499 | Muskegon\n",
      "Processing Record 500 | Teknāf\n",
      "Processing Record 501 | Aurillac\n",
      "Processing Record 502 | Kumul\n",
      "Processing Record 503 | Dingle\n",
      "Processing Record 504 | Valdivia\n",
      "Processing Record 505 | Ambulu\n",
      "Processing Record 506 | Mazatlan\n",
      "Processing Record 507 | Pochutla\n",
      "Processing Record 508 | Ketchikan\n",
      "Processing Record 509 | Maple Creek\n",
      "Processing Record 510 | Dubai\n",
      "Processing Record 511 | Kailua\n",
      "Processing Record 512 | Hastings\n",
      "Processing Record 513 | Lata\n",
      "Processing Record 514 | Villacidro\n",
      "Processing Record 515 | Katsuura\n",
      "Processing Record 516 | Khovd\n",
      "Processing Record 517 | Alice Springs\n",
      "Processing Record 518 | Broken Hill\n",
      "Processing Record 519 | George\n",
      "Processing Record 520 | Port Hedland\n",
      "Processing Record 521 | St. George's\n",
      "Processing Record 522 | Oranmore\n",
      "Processing Record 523 | Kuril'sk\n",
      "Processing Record 524 | Kruisfontein\n",
      "Processing Record 525 | Chui\n",
      "Processing Record 526 | Kilbirnie\n",
      "Processing Record 527 | Dekar\n",
      "Processing Record 528 | Havelock\n",
      "Processing Record 529 | Itarema\n",
      "Processing Record 530 | Arona\n",
      "Processing Record 531 | Kota Kinabalu\n",
      "Processing Record 532 | Grindavik\n",
      "Processing Record 533 | Lagoa\n",
      "Processing Record 534 | Arrondissement de Provins\n",
      "Processing Record 535 | Guánica\n",
      "Processing Record 536 | Kodinsk\n",
      "Processing Record 537 | Port Macquarie\n",
      "Processing Record 538 | Pathein\n",
      "Processing Record 539 | Pangoa\n",
      "Processing Record 540 | Smithers\n",
      "Processing Record 541 | Puerto Escondido\n",
      "Processing Record 542 | Kiunga\n",
      "Processing Record 543 | Imbituba\n",
      "Processing Record 544 | Inírida\n",
      "Processing Record 545 | Capitão Poço\n",
      "Processing Record 546 | Touros\n",
      "Processing Record 547 | Bara\n",
      "Processing Record 548 | Anzio\n",
      "Processing Record 549 | Palmerston\n",
      "Processing Record 550 | Jati\n",
      "Processing Record 551 | Hillsborough\n",
      "Processing Record 552 | Saint-Paul\n",
      "Processing Record 553 | Inhambane\n",
      "Processing Record 554 | Brookings\n",
      "Processing Record 555 | Santa Cruz de La Palma\n",
      "Processing Record 556 | Omboué\n",
      "Processing Record 557 | Aswān\n",
      "Processing Record 558 | Bakel\n",
      "Processing Record 559 | Ialibu\n",
      "Processing Record 560 | Santa Cruz de la Sierra\n",
      "Processing Record 561 | Fukuechō\n",
      "Processing Record 562 | Shimoda\n",
      "Processing Record 563 | Torquay\n",
      "Processing Record 564 | Tevriz\n",
      "Processing Record 565 | ‘Āhuimanu\n",
      "Processing Record 566 | Toora-Khem\n",
      "Processing Record 567 | Nouakchott\n",
      "Processing Record 568 | Ola\n",
      "Processing Record 569 | Ouésso\n",
      "Processing Record 570 | Mafeteng\n",
      "City not found. Skipping...\n",
      "Processing Record 571 | Ninotsminda\n",
      "City not found. Skipping...\n",
      "Processing Record 572 | Phoenix\n",
      "Processing Record 573 | Portland\n",
      "Processing Record 574 | Knysna\n",
      "City not found. Skipping...\n",
      "Processing Record 575 | Namikupa\n",
      "Processing Record 576 | Bozüyük\n",
      "Processing Record 577 | Tselinnoye\n",
      "Processing Record 578 | Okahandja\n"
     ]
    }
   ],
   "source": [
    "city_name = []\n",
    "country = []\n",
    "date = []\n",
    "latitude = []\n",
    "longitude = []\n",
    "max_temperature = []\n",
    "humidity = []\n",
    "cloudiness = []\n",
    "wind_speed = []\n",
    "\n",
    "processing_record = 1\n",
    "\n",
    "for city in cities:\n",
    "\n",
    "    try:\n",
    "        response = requests.get(query_url + city).json()\n",
    "        city_name.append(response[\"name\"])\n",
    "        country.append(response[\"sys\"][\"country\"])\n",
    "        date.append(response[\"dt\"])\n",
    "        latitude.append(response[\"coord\"][\"lat\"])\n",
    "        longitude.append(response[\"coord\"][\"lon\"])\n",
    "        max_temperature.append(response[\"main\"][\"temp_max\"])\n",
    "        humidity.append(response[\"main\"][\"humidity\"])\n",
    "        cloudiness.append(response[\"clouds\"][\"all\"])\n",
    "        wind_speed.append(response[\"wind\"][\"speed\"])\n",
    "        city_record = response[\"name\"]\n",
    "        print(f\"Processing Record {processing_record} | {city_record}\")\n",
    "        \n",
    "        processing_record += 1\n",
    "        \n",
    "    except:\n",
    "        print(\"City not found. Skipping...\") \n",
    "    continue\n"
   ]
  },
  {
   "cell_type": "markdown",
   "metadata": {},
   "source": [
    "### Convert Raw Data to DataFrame\n",
    "* Export the city data into a .csv.\n",
    "* Display the DataFrame"
   ]
  },
  {
   "cell_type": "code",
   "execution_count": 7,
   "metadata": {},
   "outputs": [
    {
     "data": {
      "text/plain": [
       "City               578\n",
       "Country            578\n",
       "Date               578\n",
       "Latitude           578\n",
       "Longitude          578\n",
       "Max Temperature    578\n",
       "Humidity           578\n",
       "Cloudiness         578\n",
       "Wind Speed         578\n",
       "dtype: int64"
      ]
     },
     "execution_count": 7,
     "metadata": {},
     "output_type": "execute_result"
    }
   ],
   "source": [
    "weather_dict = {\n",
    "    \"City\": city_name,\n",
    "    \"Country\": country,\n",
    "    \"Date\": date,\n",
    "    \"Latitude\": latitude,\n",
    "    \"Longitude\": longitude,\n",
    "    \"Max Temperature\": max_temperature,\n",
    "    \"Humidity\": humidity,\n",
    "    \"Cloudiness\": cloudiness,\n",
    "    \"Wind Speed\": wind_speed\n",
    "}\n",
    "\n",
    "weather_df = pd.DataFrame(weather_dict)\n",
    "weather_df.count()"
   ]
  },
  {
   "cell_type": "code",
   "execution_count": 8,
   "metadata": {},
   "outputs": [
    {
     "data": {
      "text/html": [
       "<div>\n",
       "<style scoped>\n",
       "    .dataframe tbody tr th:only-of-type {\n",
       "        vertical-align: middle;\n",
       "    }\n",
       "\n",
       "    .dataframe tbody tr th {\n",
       "        vertical-align: top;\n",
       "    }\n",
       "\n",
       "    .dataframe thead th {\n",
       "        text-align: right;\n",
       "    }\n",
       "</style>\n",
       "<table border=\"1\" class=\"dataframe\">\n",
       "  <thead>\n",
       "    <tr style=\"text-align: right;\">\n",
       "      <th></th>\n",
       "      <th>City</th>\n",
       "      <th>Country</th>\n",
       "      <th>Date</th>\n",
       "      <th>Latitude</th>\n",
       "      <th>Longitude</th>\n",
       "      <th>Max Temperature</th>\n",
       "      <th>Humidity</th>\n",
       "      <th>Cloudiness</th>\n",
       "      <th>Wind Speed</th>\n",
       "    </tr>\n",
       "  </thead>\n",
       "  <tbody>\n",
       "    <tr>\n",
       "      <th>0</th>\n",
       "      <td>Hilo</td>\n",
       "      <td>US</td>\n",
       "      <td>1617063588</td>\n",
       "      <td>19.7297</td>\n",
       "      <td>-155.0900</td>\n",
       "      <td>78.8</td>\n",
       "      <td>61</td>\n",
       "      <td>40</td>\n",
       "      <td>6.91</td>\n",
       "    </tr>\n",
       "    <tr>\n",
       "      <th>1</th>\n",
       "      <td>Clyde River</td>\n",
       "      <td>CA</td>\n",
       "      <td>1617063588</td>\n",
       "      <td>70.4692</td>\n",
       "      <td>-68.5914</td>\n",
       "      <td>-7.6</td>\n",
       "      <td>84</td>\n",
       "      <td>90</td>\n",
       "      <td>16.11</td>\n",
       "    </tr>\n",
       "    <tr>\n",
       "      <th>2</th>\n",
       "      <td>Geraldton</td>\n",
       "      <td>AU</td>\n",
       "      <td>1617063589</td>\n",
       "      <td>-28.7667</td>\n",
       "      <td>114.6000</td>\n",
       "      <td>75.2</td>\n",
       "      <td>69</td>\n",
       "      <td>75</td>\n",
       "      <td>9.22</td>\n",
       "    </tr>\n",
       "    <tr>\n",
       "      <th>3</th>\n",
       "      <td>Baní</td>\n",
       "      <td>DO</td>\n",
       "      <td>1617063589</td>\n",
       "      <td>18.2833</td>\n",
       "      <td>-70.3333</td>\n",
       "      <td>81.0</td>\n",
       "      <td>77</td>\n",
       "      <td>3</td>\n",
       "      <td>11.39</td>\n",
       "    </tr>\n",
       "    <tr>\n",
       "      <th>4</th>\n",
       "      <td>Bambous Virieux</td>\n",
       "      <td>MU</td>\n",
       "      <td>1617063589</td>\n",
       "      <td>-20.3428</td>\n",
       "      <td>57.7575</td>\n",
       "      <td>75.0</td>\n",
       "      <td>94</td>\n",
       "      <td>20</td>\n",
       "      <td>8.05</td>\n",
       "    </tr>\n",
       "  </tbody>\n",
       "</table>\n",
       "</div>"
      ],
      "text/plain": [
       "              City Country        Date  Latitude  Longitude  Max Temperature  \\\n",
       "0             Hilo      US  1617063588   19.7297  -155.0900             78.8   \n",
       "1      Clyde River      CA  1617063588   70.4692   -68.5914             -7.6   \n",
       "2        Geraldton      AU  1617063589  -28.7667   114.6000             75.2   \n",
       "3             Baní      DO  1617063589   18.2833   -70.3333             81.0   \n",
       "4  Bambous Virieux      MU  1617063589  -20.3428    57.7575             75.0   \n",
       "\n",
       "   Humidity  Cloudiness  Wind Speed  \n",
       "0        61          40        6.91  \n",
       "1        84          90       16.11  \n",
       "2        69          75        9.22  \n",
       "3        77           3       11.39  \n",
       "4        94          20        8.05  "
      ]
     },
     "execution_count": 8,
     "metadata": {},
     "output_type": "execute_result"
    }
   ],
   "source": [
    "weather_df.head()"
   ]
  },
  {
   "cell_type": "code",
   "execution_count": 9,
   "metadata": {},
   "outputs": [],
   "source": [
    "weather_df.to_csv(\"c://user/ilariatare/Desktop/Class/weather_df.csv\")"
   ]
  },
  {
   "cell_type": "markdown",
   "metadata": {},
   "source": [
    "## Inspect the data and remove the cities where the humidity > 100%.\n",
    "----\n",
    "Skip this step if there are no cities that have humidity > 100%. "
   ]
  },
  {
   "cell_type": "code",
   "execution_count": null,
   "metadata": {},
   "outputs": [],
   "source": []
  },
  {
   "cell_type": "code",
   "execution_count": 10,
   "metadata": {},
   "outputs": [
    {
     "data": {
      "text/html": [
       "<div>\n",
       "<style scoped>\n",
       "    .dataframe tbody tr th:only-of-type {\n",
       "        vertical-align: middle;\n",
       "    }\n",
       "\n",
       "    .dataframe tbody tr th {\n",
       "        vertical-align: top;\n",
       "    }\n",
       "\n",
       "    .dataframe thead th {\n",
       "        text-align: right;\n",
       "    }\n",
       "</style>\n",
       "<table border=\"1\" class=\"dataframe\">\n",
       "  <thead>\n",
       "    <tr style=\"text-align: right;\">\n",
       "      <th></th>\n",
       "      <th>City</th>\n",
       "      <th>Country</th>\n",
       "      <th>Date</th>\n",
       "      <th>Latitude</th>\n",
       "      <th>Longitude</th>\n",
       "      <th>Max Temperature</th>\n",
       "      <th>Humidity</th>\n",
       "      <th>Cloudiness</th>\n",
       "      <th>Wind Speed</th>\n",
       "    </tr>\n",
       "  </thead>\n",
       "  <tbody>\n",
       "  </tbody>\n",
       "</table>\n",
       "</div>"
      ],
      "text/plain": [
       "Empty DataFrame\n",
       "Columns: [City, Country, Date, Latitude, Longitude, Max Temperature, Humidity, Cloudiness, Wind Speed]\n",
       "Index: []"
      ]
     },
     "execution_count": 10,
     "metadata": {},
     "output_type": "execute_result"
    }
   ],
   "source": [
    "#  Get the indices of cities that have humidity over 100%.\n",
    "weather_df.loc[weather_df['Humidity'] > 100]"
   ]
  },
  {
   "cell_type": "code",
   "execution_count": 11,
   "metadata": {},
   "outputs": [
    {
     "name": "stdout",
     "output_type": "stream",
     "text": [
      "the maximum humidity value is 100%, so there are no values greater than 100% in our data!\n"
     ]
    }
   ],
   "source": [
    "print(\"the maximum humidity value is 100%, so there are no values greater than 100% in our data!\")"
   ]
  },
  {
   "cell_type": "code",
   "execution_count": null,
   "metadata": {},
   "outputs": [],
   "source": [
    "\n"
   ]
  },
  {
   "cell_type": "markdown",
   "metadata": {},
   "source": [
    "## Plotting the Data\n",
    "* Use proper labeling of the plots using plot titles (including date of analysis) and axes labels.\n",
    "* Save the plotted figures as .pngs."
   ]
  },
  {
   "cell_type": "markdown",
   "metadata": {},
   "source": [
    "## Latitude vs. Temperature Plot"
   ]
  },
  {
   "cell_type": "code",
   "execution_count": 12,
   "metadata": {
    "scrolled": true
   },
   "outputs": [
    {
     "data": {
      "image/png": "[encoded data removed]",
      "text/plain": [
       "<Figure size 432x288 with 1 Axes>"
      ]
     },
     "metadata": {
      "needs_background": "light"
     },
     "output_type": "display_data"
    }
   ],
   "source": [
    "lat_vs_Temp = weather_df.plot(kind=\"scatter\", x=\"Latitude\", y=\"Max Temperature\", \n",
    "                                      title= \"Maximum Temperature vs. City Latitude\")\n",
    "\n",
    "lat_vs_Temp.get_figure().savefig(\"../output_data/Temp_vs_Latitude_All_Cities.png\")"
   ]
  },
  {
   "cell_type": "markdown",
   "metadata": {},
   "source": [
    "## Latitude vs. Humidity Plot"
   ]
  },
  {
   "cell_type": "code",
   "execution_count": 13,
   "metadata": {},
   "outputs": [
    {
     "data": {
      "image/png": "[encoded data removed]",
      "text/plain": [
       "<Figure size 432x288 with 1 Axes>"
      ]
     },
     "metadata": {
      "needs_background": "light"
     },
     "output_type": "display_data"
    }
   ],
   "source": [
    "lat_vs_humidity = weather_df.plot(kind=\"scatter\", x=\"Latitude\", y=\"Humidity\", \n",
    "                                      title=\"Humidity (%) vs. City Latitude\")\n",
    "\n",
    "lat_vs_humidity.get_figure().savefig(\"../output_data/Humidity_vs_Latitude_All_Cities.png\")"
   ]
  },
  {
   "cell_type": "markdown",
   "metadata": {},
   "source": [
    "## Latitude vs. Cloudiness Plot"
   ]
  },
  {
   "cell_type": "code",
   "execution_count": 14,
   "metadata": {},
   "outputs": [
    {
     "data": {
      "image/png": "[encoded data removed]",
      "text/plain": [
       "<Figure size 432x288 with 1 Axes>"
      ]
     },
     "metadata": {
      "needs_background": "light"
     },
     "output_type": "display_data"
    }
   ],
   "source": [
    "lat_vs_cloudiness = weather_df.plot(kind=\"scatter\", x=\"Latitude\", y=\"Cloudiness\", \n",
    "                                      title=\"Cloudiness vs. City Latitude\")\n",
    "\n",
    "lat_vs_cloudiness.get_figure().savefig(\"../output_data/Cloudiness_vs_Latitude_All_Cities.png\")"
   ]
  },
  {
   "cell_type": "markdown",
   "metadata": {},
   "source": [
    "## Latitude vs. Wind Speed Plot"
   ]
  },
  {
   "cell_type": "code",
   "execution_count": 15,
   "metadata": {},
   "outputs": [
    {
     "data": {
      "image/png": "[encoded data removed]",
      "text/plain": [
       "<Figure size 432x288 with 1 Axes>"
      ]
     },
     "metadata": {
      "needs_background": "light"
     },
     "output_type": "display_data"
    }
   ],
   "source": [
    "lat_vs_windspeed = weather_df.plot(kind=\"scatter\", x=\"Latitude\", y=\"Wind Speed\", \n",
    "                                      title=\"Wind Speed (mph) vs. City Latitude\")\n",
    "\n",
    "lat_vs_windspeed.get_figure().savefig(\"../output_data/Wind_Speed_vs_Latitude_All_Cities.png\")"
   ]
  },
  {
   "cell_type": "markdown",
   "metadata": {},
   "source": [
    "## Linear Regression"
   ]
  },
  {
   "cell_type": "code",
   "execution_count": 3,
   "metadata": {},
   "outputs": [],
   "source": [
    "def makeLinRegression(df, x_Col, y_Col):\n",
    "    (regr_slope, regr_intercept, regr_r_val, _, _) = linregress(df[x_Col], \n",
    "                                                           df[y_Col])\n",
    "    regr_line_x = np.array([a for a in range(int(min(df[x_Col].values)), int(max(df[x_Col].values)+1))])\n",
    "    regr_line_y = regr_slope * regr_line_x + regr_intercept\n",
    "\n",
    "    df_axes = df.plot(kind=\"scatter\", x=x_Col, y=y_Col, \n",
    "                      title=\"{} vs. {} ({})\"\n",
    "                        .format(y_Col, x_Col, weather_df[\"Datetime (Local)\"].iloc[0].split(\",\")[0]))\n",
    "\n",
    "    df_axes.plot(regr_line_x, regr_line_y, 'r')\n",
    "                  \n",
    "    return df_axes"
   ]
  },
  {
   "cell_type": "code",
   "execution_count": 5,
   "metadata": {},
   "outputs": [
    {
     "ename": "SyntaxError",
     "evalue": "invalid syntax (<ipython-input-5-61b36834203d>, line 7)",
     "output_type": "error",
     "traceback": [
      "\u001b[0;36m  File \u001b[0;32m\"<ipython-input-5-61b36834203d>\"\u001b[0;36m, line \u001b[0;32m7\u001b[0m\n\u001b[0;31m    southern_hemisphere = weather_df.loc[weather_df[\"Latitude\"] <= 0]\u001b[0m\n\u001b[0m    ^\u001b[0m\n\u001b[0;31mSyntaxError\u001b[0m\u001b[0;31m:\u001b[0m invalid syntax\n"
     ]
    }
   ],
   "source": [
    "northern_hemisphere = weather_df.loc[weather_df[\"Latitude\"] > 0]\n",
    "northern_cities_count = len(northern_hemisphere)\n",
    "print(\"There are {} cities in the northern hemisphere out of {} cities total\"\n",
    "     .format(northern_cities_count,(northern_cities_count))\n",
    "\n",
    "\n",
    "southern_hemisphere = weather_df.loc[weather_df[\"Latitude\"] <= 0]\n",
    "southern_cities_count = len(southern_hemisphere)\n",
    "print(\"There are {} cities in the southern hemisphere out of {} cities total\"\n",
    "     .format(southern_cities_count,(southern_cities_count))\n"
   ]
  },
  {
   "cell_type": "markdown",
   "metadata": {},
   "source": [
    "####  Northern Hemisphere - Max Temp vs. Latitude Linear Regression"
   ]
  },
  {
   "cell_type": "code",
   "execution_count": 6,
   "metadata": {},
   "outputs": [
    {
     "ename": "NameError",
     "evalue": "name 'linregress' is not defined",
     "output_type": "error",
     "traceback": [
      "\u001b[0;31m---------------------------------------------------------------------------\u001b[0m",
      "\u001b[0;31mNameError\u001b[0m                                 Traceback (most recent call last)",
      "\u001b[0;32m<ipython-input-6-e62575b271c4>\u001b[0m in \u001b[0;36m<module>\u001b[0;34m\u001b[0m\n\u001b[0;32m----> 1\u001b[0;31m (n_temp_slope, n_temp_intercept, n_temp_r_val, _, _) = linregress(northern_hemisphere[\"Latitude\"], \n\u001b[0m\u001b[1;32m      2\u001b[0m                                                            northern_hemisphere[\"Max Temperature\"])\n\u001b[1;32m      3\u001b[0m \u001b[0;34m\u001b[0m\u001b[0m\n\u001b[1;32m      4\u001b[0m \u001b[0mregr_line_x\u001b[0m \u001b[0;34m=\u001b[0m \u001b[0mnp\u001b[0m\u001b[0;34m.\u001b[0m\u001b[0marray\u001b[0m\u001b[0;34m(\u001b[0m\u001b[0;34m[\u001b[0m\u001b[0ma\u001b[0m \u001b[0;32mfor\u001b[0m \u001b[0ma\u001b[0m \u001b[0;32min\u001b[0m \u001b[0mrange\u001b[0m\u001b[0;34m(\u001b[0m\u001b[0;36m80\u001b[0m\u001b[0;34m)\u001b[0m\u001b[0;34m]\u001b[0m\u001b[0;34m)\u001b[0m\u001b[0;34m\u001b[0m\u001b[0;34m\u001b[0m\u001b[0m\n\u001b[1;32m      5\u001b[0m \u001b[0mregr_line_y\u001b[0m \u001b[0;34m=\u001b[0m \u001b[0mn_temp_slope\u001b[0m \u001b[0;34m*\u001b[0m \u001b[0mregr_line_x\u001b[0m \u001b[0;34m+\u001b[0m \u001b[0mn_temp_intercept\u001b[0m\u001b[0;34m\u001b[0m\u001b[0;34m\u001b[0m\u001b[0m\n",
      "\u001b[0;31mNameError\u001b[0m: name 'linregress' is not defined"
     ]
    }
   ],
   "source": [
    "(n_temp_slope, n_temp_intercept, n_temp_r_val, _, _) = linregress(northern_hemisphere[\"Latitude\"], \n",
    "                                                           northern_hemisphere[\"Max Temperature\"])\n",
    "\n",
    "regr_line_x = np.array([a for a in range(80)])\n",
    "regr_line_y = n_temp_slope * regr_line_x + n_temp_intercept\n",
    "\n",
    "n_temp = northern_hemisphere.plot(kind=\"scatter\", x=\"Latitude\", \n",
    "                                       y=\"Max Temperature\", \n",
    "                                       title=\"Max Temperature (F) vs. Actual Latitude ({})\".\n",
    "                                       format(weather_df[\"Datetime (Local)\"].iloc[0].split(\",\")[0]))\n",
    "                        \n",
    "\n",
    "n_temp.plot(regr_line_x, regr_line_y, 'r')\n"
   ]
  },
  {
   "cell_type": "markdown",
   "metadata": {},
   "source": [
    "####  Southern Hemisphere - Max Temp vs. Latitude Linear Regression"
   ]
  },
  {
   "cell_type": "code",
   "execution_count": 20,
   "metadata": {},
   "outputs": [
    {
     "ename": "NameError",
     "evalue": "name 'southern_hemisphere' is not defined",
     "output_type": "error",
     "traceback": [
      "\u001b[0;31m---------------------------------------------------------------------------\u001b[0m",
      "\u001b[0;31mNameError\u001b[0m                                 Traceback (most recent call last)",
      "\u001b[0;32m<ipython-input-20-d86929123a50>\u001b[0m in \u001b[0;36m<module>\u001b[0;34m\u001b[0m\n\u001b[0;32m----> 1\u001b[0;31m (s_temp_slope, s_temp_intercept, s_temp_r_val, _, _) = linregress(southern_hemisphere[\"Latitude\"], \n\u001b[0m\u001b[1;32m      2\u001b[0m                                                            southern_hemisphere[\"Max Temperature\"])\n\u001b[1;32m      3\u001b[0m \u001b[0;34m\u001b[0m\u001b[0m\n\u001b[1;32m      4\u001b[0m \u001b[0mregr_line_x\u001b[0m \u001b[0;34m=\u001b[0m \u001b[0mnp\u001b[0m\u001b[0;34m.\u001b[0m\u001b[0marray\u001b[0m\u001b[0;34m(\u001b[0m\u001b[0;34m[\u001b[0m\u001b[0ma\u001b[0m \u001b[0;32mfor\u001b[0m \u001b[0ma\u001b[0m \u001b[0;32min\u001b[0m \u001b[0mrange\u001b[0m\u001b[0;34m(\u001b[0m\u001b[0;36m80\u001b[0m\u001b[0;34m)\u001b[0m\u001b[0;34m]\u001b[0m\u001b[0;34m)\u001b[0m\u001b[0;34m\u001b[0m\u001b[0;34m\u001b[0m\u001b[0m\n\u001b[1;32m      5\u001b[0m \u001b[0mregr_line_y\u001b[0m \u001b[0;34m=\u001b[0m \u001b[0ms_temp_slope\u001b[0m \u001b[0;34m*\u001b[0m \u001b[0mregr_line_x\u001b[0m \u001b[0;34m+\u001b[0m \u001b[0ms_temp_intercept\u001b[0m\u001b[0;34m\u001b[0m\u001b[0;34m\u001b[0m\u001b[0m\n",
      "\u001b[0;31mNameError\u001b[0m: name 'southern_hemisphere' is not defined"
     ]
    }
   ],
   "source": [
    "(s_temp_slope, s_temp_intercept, s_temp_r_val, _, _) = linregress(southern_hemisphere[\"Latitude\"], \n",
    "                                                           southern_hemisphere[\"Max Temperature\"])\n",
    "\n",
    "regr_line_x = np.array([a for a in range(80)])\n",
    "regr_line_y = s_temp_slope * regr_line_x + s_temp_intercept\n",
    "\n",
    "s_temp = southern_hemisphere.plot(kind=\"scatter\", x=\"Latitude\", \n",
    "                                       y=\"Max Temperature\", \n",
    "                                       title=\"Max Temperature (F) vs. Actual Latitude ({})\".\n",
    "                                       format(weather_df[\"Datetime (Local)\"].iloc[0].split(\",\")[0]))\n",
    "                        \n",
    "\n",
    "s_temp.plot(regr_line_x, regr_line_y, 'r')"
   ]
  },
  {
   "cell_type": "markdown",
   "metadata": {},
   "source": [
    "####  Northern Hemisphere - Humidity (%) vs. Latitude Linear Regression"
   ]
  },
  {
   "cell_type": "code",
   "execution_count": 21,
   "metadata": {},
   "outputs": [
    {
     "ename": "NameError",
     "evalue": "name 'northern_hemisphere' is not defined",
     "output_type": "error",
     "traceback": [
      "\u001b[0;31m---------------------------------------------------------------------------\u001b[0m",
      "\u001b[0;31mNameError\u001b[0m                                 Traceback (most recent call last)",
      "\u001b[0;32m<ipython-input-21-ae3a744df0f9>\u001b[0m in \u001b[0;36m<module>\u001b[0;34m\u001b[0m\n\u001b[0;32m----> 1\u001b[0;31m \u001b[0mn_humidity_lat_axes\u001b[0m \u001b[0;34m=\u001b[0m \u001b[0mmakeLinRegression\u001b[0m\u001b[0;34m(\u001b[0m\u001b[0mnorthern_hemisphere\u001b[0m\u001b[0;34m,\u001b[0m \u001b[0;34m\"Actual Latitude\"\u001b[0m\u001b[0;34m,\u001b[0m \u001b[0;34m\"Humidity (%)\"\u001b[0m\u001b[0;34m)\u001b[0m\u001b[0;34m\u001b[0m\u001b[0;34m\u001b[0m\u001b[0m\n\u001b[0m\u001b[1;32m      2\u001b[0m \u001b[0mn_humidity_lat_axes\u001b[0m\u001b[0;34m.\u001b[0m\u001b[0mget_figure\u001b[0m\u001b[0;34m(\u001b[0m\u001b[0;34m)\u001b[0m\u001b[0;34m.\u001b[0m\u001b[0msavefig\u001b[0m\u001b[0;34m(\u001b[0m\u001b[0;34m\"../output_data/Humidity_vs_Latitude_N_Hemisphere.png\"\u001b[0m\u001b[0;34m)\u001b[0m\u001b[0;34m\u001b[0m\u001b[0;34m\u001b[0m\u001b[0m\n",
      "\u001b[0;31mNameError\u001b[0m: name 'northern_hemisphere' is not defined"
     ]
    }
   ],
   "source": [
    "n_humidity_lat_axes = makeLinRegression(northern_hemisphere, \"Latitude\", \"Humidity\")\n",
    "n_humidity_lat_axes.get_figure().savefig(\"../output_data/Humidity_vs_Latitude_N_Hemisphere.png\")"
   ]
  },
  {
   "cell_type": "markdown",
   "metadata": {},
   "source": [
    "####  Southern Hemisphere - Humidity (%) vs. Latitude Linear Regression"
   ]
  },
  {
   "cell_type": "code",
   "execution_count": 22,
   "metadata": {},
   "outputs": [
    {
     "ename": "NameError",
     "evalue": "name 'southern_hemisphere' is not defined",
     "output_type": "error",
     "traceback": [
      "\u001b[0;31m---------------------------------------------------------------------------\u001b[0m",
      "\u001b[0;31mNameError\u001b[0m                                 Traceback (most recent call last)",
      "\u001b[0;32m<ipython-input-22-8cd2655c58c3>\u001b[0m in \u001b[0;36m<module>\u001b[0;34m\u001b[0m\n\u001b[0;32m----> 1\u001b[0;31m \u001b[0ms_humidity_lat_axes\u001b[0m \u001b[0;34m=\u001b[0m \u001b[0mmakeLinRegression\u001b[0m\u001b[0;34m(\u001b[0m\u001b[0msouthern_hemisphere\u001b[0m\u001b[0;34m,\u001b[0m \u001b[0;34m\"Actual Latitude\"\u001b[0m\u001b[0;34m,\u001b[0m \u001b[0;34m\"Humidity (%)\"\u001b[0m\u001b[0;34m)\u001b[0m\u001b[0;34m\u001b[0m\u001b[0;34m\u001b[0m\u001b[0m\n\u001b[0m\u001b[1;32m      2\u001b[0m \u001b[0ms_humidity_lat_axes\u001b[0m\u001b[0;34m.\u001b[0m\u001b[0mget_figure\u001b[0m\u001b[0;34m(\u001b[0m\u001b[0;34m)\u001b[0m\u001b[0;34m.\u001b[0m\u001b[0msavefig\u001b[0m\u001b[0;34m(\u001b[0m\u001b[0;34m\"../output_data/Humidity_vs_Latitude_S_Hemisphere.png\"\u001b[0m\u001b[0;34m)\u001b[0m\u001b[0;34m\u001b[0m\u001b[0;34m\u001b[0m\u001b[0m\n",
      "\u001b[0;31mNameError\u001b[0m: name 'southern_hemisphere' is not defined"
     ]
    }
   ],
   "source": [
    "s_humidity_lat_axes = makeLinRegression(southern_hemisphere, \"Latitude\", \"Humidity\")\n",
    "s_humidity_lat_axes.get_figure().savefig(\"../output_data/Humidity_vs_Latitude_S_Hemisphere.png\")"
   ]
  },
  {
   "cell_type": "markdown",
   "metadata": {},
   "source": [
    "####  Northern Hemisphere - Cloudiness (%) vs. Latitude Linear Regression"
   ]
  },
  {
   "cell_type": "code",
   "execution_count": 24,
   "metadata": {},
   "outputs": [
    {
     "ename": "NameError",
     "evalue": "name 'northern_hemisphere' is not defined",
     "output_type": "error",
     "traceback": [
      "\u001b[0;31m---------------------------------------------------------------------------\u001b[0m",
      "\u001b[0;31mNameError\u001b[0m                                 Traceback (most recent call last)",
      "\u001b[0;32m<ipython-input-24-725b0767e6c9>\u001b[0m in \u001b[0;36m<module>\u001b[0;34m\u001b[0m\n\u001b[0;32m----> 1\u001b[0;31m \u001b[0mn_cloudiness_lat_axes\u001b[0m \u001b[0;34m=\u001b[0m \u001b[0mmakeLinRegression\u001b[0m\u001b[0;34m(\u001b[0m\u001b[0mnorthern_hemisphere\u001b[0m\u001b[0;34m,\u001b[0m \u001b[0;34m\"Latitude\"\u001b[0m\u001b[0;34m,\u001b[0m \u001b[0;34m\"Cloudiness\"\u001b[0m\u001b[0;34m)\u001b[0m\u001b[0;34m\u001b[0m\u001b[0;34m\u001b[0m\u001b[0m\n\u001b[0m\u001b[1;32m      2\u001b[0m \u001b[0mn_cloudiness_lat_axes\u001b[0m\u001b[0;34m.\u001b[0m\u001b[0mget_figure\u001b[0m\u001b[0;34m(\u001b[0m\u001b[0;34m)\u001b[0m\u001b[0;34m.\u001b[0m\u001b[0msavefig\u001b[0m\u001b[0;34m(\u001b[0m\u001b[0;34m\"../output_data/Cloudiness_vs_Latitude_N_Hemisphere.png\"\u001b[0m\u001b[0;34m)\u001b[0m\u001b[0;34m\u001b[0m\u001b[0;34m\u001b[0m\u001b[0m\n",
      "\u001b[0;31mNameError\u001b[0m: name 'northern_hemisphere' is not defined"
     ]
    }
   ],
   "source": [
    "n_cloudiness_lat_axes = makeLinRegression(northern_hemisphere, \"Latitude\", \"Cloudiness\")\n",
    "n_cloudiness_lat_axes.get_figure().savefig(\"../output_data/Cloudiness_vs_Latitude_N_Hemisphere.png\")"
   ]
  },
  {
   "cell_type": "markdown",
   "metadata": {},
   "source": [
    "####  Southern Hemisphere - Cloudiness (%) vs. Latitude Linear Regression"
   ]
  },
  {
   "cell_type": "code",
   "execution_count": 25,
   "metadata": {},
   "outputs": [
    {
     "ename": "NameError",
     "evalue": "name 'southern_hemisphere' is not defined",
     "output_type": "error",
     "traceback": [
      "\u001b[0;31m---------------------------------------------------------------------------\u001b[0m",
      "\u001b[0;31mNameError\u001b[0m                                 Traceback (most recent call last)",
      "\u001b[0;32m<ipython-input-25-316e35963fc1>\u001b[0m in \u001b[0;36m<module>\u001b[0;34m\u001b[0m\n\u001b[0;32m----> 1\u001b[0;31m \u001b[0ms_cloudiness_lat_axes\u001b[0m \u001b[0;34m=\u001b[0m \u001b[0mmakeLinRegression\u001b[0m\u001b[0;34m(\u001b[0m\u001b[0msouthern_hemisphere\u001b[0m\u001b[0;34m,\u001b[0m \u001b[0;34m\"Latitude\"\u001b[0m\u001b[0;34m,\u001b[0m \u001b[0;34m\"Cloudiness\"\u001b[0m\u001b[0;34m)\u001b[0m\u001b[0;34m\u001b[0m\u001b[0;34m\u001b[0m\u001b[0m\n\u001b[0m\u001b[1;32m      2\u001b[0m \u001b[0ms_cloudiness_lat_axes\u001b[0m\u001b[0;34m.\u001b[0m\u001b[0mget_figure\u001b[0m\u001b[0;34m(\u001b[0m\u001b[0;34m)\u001b[0m\u001b[0;34m.\u001b[0m\u001b[0msavefig\u001b[0m\u001b[0;34m(\u001b[0m\u001b[0;34m\"../output_data/Cloudiness_vs_Latitude_S_Hemisphere.png\"\u001b[0m\u001b[0;34m)\u001b[0m\u001b[0;34m\u001b[0m\u001b[0;34m\u001b[0m\u001b[0m\n",
      "\u001b[0;31mNameError\u001b[0m: name 'southern_hemisphere' is not defined"
     ]
    }
   ],
   "source": [
    "s_cloudiness_lat_axes = makeLinRegression(southern_hemisphere, \"Latitude\", \"Cloudiness\")\n",
    "s_cloudiness_lat_axes.get_figure().savefig(\"../output_data/Cloudiness_vs_Latitude_S_Hemisphere.png\")"
   ]
  },
  {
   "cell_type": "markdown",
   "metadata": {},
   "source": [
    "####  Northern Hemisphere - Wind Speed (mph) vs. Latitude Linear Regression"
   ]
  },
  {
   "cell_type": "code",
   "execution_count": 26,
   "metadata": {},
   "outputs": [
    {
     "ename": "NameError",
     "evalue": "name 'northern_hemisphere' is not defined",
     "output_type": "error",
     "traceback": [
      "\u001b[0;31m---------------------------------------------------------------------------\u001b[0m",
      "\u001b[0;31mNameError\u001b[0m                                 Traceback (most recent call last)",
      "\u001b[0;32m<ipython-input-26-bd3ee2fd7fe2>\u001b[0m in \u001b[0;36m<module>\u001b[0;34m\u001b[0m\n\u001b[0;32m----> 1\u001b[0;31m \u001b[0mn_wind_lat_axes\u001b[0m \u001b[0;34m=\u001b[0m \u001b[0mmakeLinRegression\u001b[0m\u001b[0;34m(\u001b[0m\u001b[0mnorthern_hemisphere\u001b[0m\u001b[0;34m,\u001b[0m \u001b[0;34m\"Latitude\"\u001b[0m\u001b[0;34m,\u001b[0m \u001b[0;34m\"Wind Speed\"\u001b[0m\u001b[0;34m)\u001b[0m\u001b[0;34m\u001b[0m\u001b[0;34m\u001b[0m\u001b[0m\n\u001b[0m\u001b[1;32m      2\u001b[0m \u001b[0mn_wind_lat_axes\u001b[0m\u001b[0;34m.\u001b[0m\u001b[0mget_figure\u001b[0m\u001b[0;34m(\u001b[0m\u001b[0;34m)\u001b[0m\u001b[0;34m.\u001b[0m\u001b[0msavefig\u001b[0m\u001b[0;34m(\u001b[0m\u001b[0;34m\"../output_data/Wind_Speed_vs_Latitude_N_Hemisphere.png\"\u001b[0m\u001b[0;34m)\u001b[0m\u001b[0;34m\u001b[0m\u001b[0;34m\u001b[0m\u001b[0m\n",
      "\u001b[0;31mNameError\u001b[0m: name 'northern_hemisphere' is not defined"
     ]
    }
   ],
   "source": [
    "n_wind_lat_axes = makeLinRegression(northern_hemisphere, \"Latitude\", \"Wind Speed\")\n",
    "n_wind_lat_axes.get_figure().savefig(\"../output_data/Wind_Speed_vs_Latitude_N_Hemisphere.png\")"
   ]
  },
  {
   "cell_type": "markdown",
   "metadata": {},
   "source": [
    "####  Southern Hemisphere - Wind Speed (mph) vs. Latitude Linear Regression"
   ]
  },
  {
   "cell_type": "code",
   "execution_count": 1,
   "metadata": {},
   "outputs": [
    {
     "ename": "NameError",
     "evalue": "name 'makeLinRegression' is not defined",
     "output_type": "error",
     "traceback": [
      "\u001b[0;31m---------------------------------------------------------------------------\u001b[0m",
      "\u001b[0;31mNameError\u001b[0m                                 Traceback (most recent call last)",
      "\u001b[0;32m<ipython-input-1-86f1cb8f18f3>\u001b[0m in \u001b[0;36m<module>\u001b[0;34m\u001b[0m\n\u001b[0;32m----> 1\u001b[0;31m \u001b[0ms_wind_lat_axes\u001b[0m\u001b[0;34m=\u001b[0m\u001b[0mmakeLinRegression\u001b[0m\u001b[0;34m(\u001b[0m\u001b[0msouthern_hemisphere\u001b[0m\u001b[0;34m,\u001b[0m \u001b[0;34m\"Latitude\"\u001b[0m\u001b[0;34m,\u001b[0m \u001b[0;34m\"Wind Speed\"\u001b[0m\u001b[0;34m)\u001b[0m\u001b[0;34m\u001b[0m\u001b[0;34m\u001b[0m\u001b[0m\n\u001b[0m\u001b[1;32m      2\u001b[0m \u001b[0ms_wind_lat_axes\u001b[0m\u001b[0;34m.\u001b[0m\u001b[0mget_figure\u001b[0m\u001b[0;34m(\u001b[0m\u001b[0;34m)\u001b[0m\u001b[0;34m.\u001b[0m\u001b[0msavefig\u001b[0m\u001b[0;34m(\u001b[0m\u001b[0;34m\"../output_data/Wind_Speed_vs_Latitude_S_Hemisphere.png\"\u001b[0m\u001b[0;34m)\u001b[0m\u001b[0;34m\u001b[0m\u001b[0;34m\u001b[0m\u001b[0m\n",
      "\u001b[0;31mNameError\u001b[0m: name 'makeLinRegression' is not defined"
     ]
    }
   ],
   "source": [
    "s_wind_lat_axes=makeLinRegression(southern_hemisphere, \"Latitude\", \"Wind Speed\")\n",
    "s_wind_lat_axes.get_figure().savefig(\"../output_data/Wind_Speed_vs_Latitude_S_Hemisphere.png\")"
   ]
  },
  {
   "cell_type": "code",
   "execution_count": null,
   "metadata": {},
   "outputs": [],
   "source": []
  }
 ],
 "metadata": {
  "anaconda-cloud": {},
  "kernel_info": {
   "name": "python3"
  },
  "kernelspec": {
   "display_name": "Python 3",
   "language": "python",
   "name": "python3"
  },
  "language_info": {
   "codemirror_mode": {
    "name": "ipython",
    "version": 3
   },
   "file_extension": ".py",
   "mimetype": "text/x-python",
   "name": "python",
   "nbconvert_exporter": "python",
   "pygments_lexer": "ipython3",
   "version": "3.8.5"
  },
  "latex_envs": {
   "LaTeX_envs_menu_present": true,
   "autoclose": false,
   "autocomplete": true,
   "bibliofile": "biblio.bib",
   "cite_by": "apalike",
   "current_citInitial": 1,
   "eqLabelWithNumbers": true,
   "eqNumInitial": 1,
   "hotkeys": {
    "equation": "Ctrl-E",
    "itemize": "Ctrl-I"
   },
   "labels_anchors": false,
   "latex_user_defs": false,
   "report_style_numbering": false,
   "user_envs_cfg": false
  },
  "nteract": {
   "version": "0.12.3"
  }
 },
 "nbformat": 4,
 "nbformat_minor": 4
}
